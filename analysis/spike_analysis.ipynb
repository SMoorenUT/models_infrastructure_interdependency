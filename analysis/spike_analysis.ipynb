{
 "cells": [
  {
   "cell_type": "markdown",
   "metadata": {},
   "source": [
    "# Initialization"
   ]
  },
  {
   "cell_type": "code",
   "execution_count": 2,
   "metadata": {},
   "outputs": [],
   "source": [
    "import numpy as np\n",
    "import pandas as pd\n",
    "import matplotlib\n",
    "import matplotlib.pyplot as plt\n",
    "import seaborn as sns\n",
    "from pathlib import Path\n",
    "import sys\n",
    "from pathlib import Path\n",
    "import os\n",
    "\n",
    "# Add the project root to the Python path\n",
    "BASE_DIR = Path(os.getcwd()).resolve().parent\n",
    "if BASE_DIR not in sys.path:\n",
    "    sys.path.append(str(BASE_DIR))\n",
    "\n",
    "# Now you can use absolute imports\n",
    "from post_processing.plotting_results_EMA import *\n",
    "\n",
    "matplotlib.use('TkAgg')\n",
    "\n",
    "SIM_NAME = \"ema_road_model_08_05_2024\"\n",
    "TRAFFIC_TYPE = \"passenger\"  # \"cargo\", \"passenger\" or \"combined\"\n",
    "# Load the data\n",
    "PLOT_DIR = BASE_DIR / \"plots\"\n",
    "DATA_DIR = (\n",
    "    BASE_DIR.parent / \"output_simulations\" / SIM_NAME\n",
    ")  # Folder with the results of the simulations as CSV files\n",
    "DATA_SUBDIR_BRIDGES = (\n",
    "    \"bridges_ICratio\"  # Subdirectory of the data directory where the results are stored\n",
    ")\n",
    "DATA_SUBDIR_ROAD_NETWORK = (\n",
    "    f\"road_network\"  # Subdirectory of the data directory where the results are stored\n",
    ")\n",
    "\n"
   ]
  },
  {
   "cell_type": "markdown",
   "metadata": {},
   "source": [
    "### Load data"
   ]
  },
  {
   "cell_type": "code",
   "execution_count": 6,
   "metadata": {},
   "outputs": [
    {
     "name": "stdout",
     "output_type": "stream",
     "text": [
      "       2019        2020        2021        2022        2023        2024  \\\n",
      "count   0.0  500.000000  500.000000  500.000000  500.000000  500.000000   \n",
      "mean    NaN    2.278143    1.941758    2.032325    2.536420    2.350439   \n",
      "std     NaN    0.927360    0.790180    0.797133    0.681614    0.504046   \n",
      "min     NaN   -0.441221   -0.192309   -0.096683    0.651068    0.052587   \n",
      "25%     NaN    1.569061    1.448939    1.458176    2.114452    2.126832   \n",
      "50%     NaN    2.292717    1.904709    2.090072    2.507660    2.476290   \n",
      "75%     NaN    2.966593    2.498599    2.603983    2.946630    2.680720   \n",
      "max     NaN    4.661162    4.466078    4.230036    4.559970    3.559078   \n",
      "\n",
      "             2025        2026        2027        2028  ...        2041  \\\n",
      "count  500.000000  500.000000  500.000000  500.000000  ...  500.000000   \n",
      "mean     2.397489    1.630635    2.414065    2.121483  ...    0.094018   \n",
      "std      1.018830    0.521783    0.416745    0.562266  ...    0.784083   \n",
      "min      0.384740    0.400196    1.450960    0.862175  ...   -1.766019   \n",
      "25%      1.643223    1.254231    2.121109    1.717430  ...   -0.495613   \n",
      "50%      2.251649    1.576294    2.396955    2.045648  ...    0.108532   \n",
      "75%      3.033958    1.950368    2.696292    2.434343  ...    0.663732   \n",
      "max      6.470638    4.121863    3.643643    5.073020  ...    2.134517   \n",
      "\n",
      "             2042        2043        2044        2045        2046        2047  \\\n",
      "count  500.000000  500.000000  500.000000  500.000000  500.000000  500.000000   \n",
      "mean     0.025736   -0.062450   -0.151412   -0.253363   -0.343434   -0.443257   \n",
      "std      0.841421    0.928811    0.991914    1.070260    1.161183    1.259139   \n",
      "min     -1.939307   -2.300607   -2.499821   -3.062620   -3.488977   -4.079718   \n",
      "25%     -0.642373   -0.749472   -0.868328   -1.010763   -1.170611   -1.347309   \n",
      "50%      0.055221   -0.047443   -0.080320   -0.172547   -0.256675   -0.283995   \n",
      "75%      0.622416    0.625244    0.599837    0.534549    0.561518    0.485854   \n",
      "max      2.391381    2.472410    2.517311    2.453775    2.672316    2.600277   \n",
      "\n",
      "             2048        2049        2050  \n",
      "count  500.000000  500.000000  500.000000  \n",
      "mean    -0.545057   -0.673314   -0.842036  \n",
      "std      1.354297    1.477404    1.607438  \n",
      "min     -4.671462   -5.516949   -6.371595  \n",
      "25%     -1.480568   -1.722953   -1.893492  \n",
      "50%     -0.370441   -0.445848   -0.532721  \n",
      "75%      0.480982    0.423556    0.380557  \n",
      "max      2.286363    2.358048    1.966858  \n",
      "\n",
      "[8 rows x 32 columns]\n",
      "Backend TkAgg is interactive backend. Turning interactive mode on.\n"
     ]
    }
   ],
   "source": [
    "class Data:\n",
    "    def __init__(self, filename):\n",
    "        self.filename = filename\n",
    "        self.data = load_results_single_df(self.filename)\n",
    "        self.relative_data = self.relative_change()\n",
    "        self.relative_data_transposed = self.relative_data.transpose()\n",
    "        self.stats = self.get_stats()\n",
    "    \n",
    "    def relative_change(self):\n",
    "        \"\"\"\n",
    "        Calculate the relative change to the previous row for all columns in the DataFrame\n",
    "        \"\"\"\n",
    "        relative_df = self.data.pct_change() * 100\n",
    "        return relative_df\n",
    "    \n",
    "    def get_stats(self, property=\"year\"):\n",
    "        if property not in [\"year\", \"scenario\"]:\n",
    "            raise ValueError(\"The property should be either 'year' or 'scenario'\")\n",
    "        if property == \"year\":\n",
    "            stats = self.relative_data_transposed.describe()\n",
    "        elif property == \"scenario\":\n",
    "            stats = self.relative_data.describe()\n",
    "        print(stats)\n",
    "        return stats\n",
    "\n",
    "filename = f\"{TRAFFIC_TYPE}_vkm.csv\"\n",
    "passenger_data = Data(filename)\n",
    "pass\n",
    "\n"
   ]
  },
  {
   "cell_type": "markdown",
   "metadata": {},
   "source": [
    "## Relative change"
   ]
  },
  {
   "cell_type": "code",
   "execution_count": 4,
   "metadata": {},
   "outputs": [
    {
     "name": "stdout",
     "output_type": "stream",
     "text": [
      "Scenarios where the value in 2036 increases and in 2037 decreases: [94, 101, 118, 140, 141, 156, 171, 175, 184, 186, 192, 217, 264, 326, 331, 362, 377, 460, 473, 480, 481, 494, 496, 500, 503, 544, 545]\n",
      "Number of scenarios: 27\n"
     ]
    }
   ],
   "source": [
    "# Filter scenarios where the value in 2036 increases and in 2037 decreases\n",
    "def filter_scenarios(data, year1, year2, increase_threshold=4, decrease_threshold=0):\n",
    "    filtered_scenarios = []\n",
    "    for scenario in data.relative_data.columns:\n",
    "        if data.relative_data.loc[year1, scenario] > increase_threshold and data.relative_data.loc[year2, scenario] < decrease_threshold:\n",
    "            filtered_scenarios.append(scenario)\n",
    "    return filtered_scenarios\n",
    "\n",
    "scenarios = filter_scenarios(passenger_data, 2036, 2037)\n",
    "scenario_numbers = [int(scenario.split(\"_\")[-1]) for scenario in scenarios]\n",
    "print(\"Scenarios where the value in 2036 increases and in 2037 decreases:\", scenario_numbers)\n",
    "print(\"Number of scenarios:\", len(scenarios))"
   ]
  },
  {
   "cell_type": "code",
   "execution_count": 5,
   "metadata": {},
   "outputs": [],
   "source": [
    "subset_2036_peak = passenger_data.data[scenarios]\n",
    "subset_remaining = passenger_data.data.drop(columns=scenarios)\n",
    "save_fig = False\n",
    "\n",
    "# Check input types\n",
    "if not isinstance(passenger_data.data, pd.DataFrame):\n",
    "    raise TypeError(\"df_results must be a pandas DataFrame\")\n",
    "if not isinstance(save_fig, bool):\n",
    "    raise TypeError(\"save_fig must be a boolean\")\n",
    "\n",
    "# Plot the results\n",
    "fig, (ax1, ax2) = plt.subplots(\n",
    "    1, 2, gridspec_kw={\"width_ratios\": [9, 1]}, sharey=True\n",
    ")\n",
    "\n",
    "# Draw the first subplot\n",
    "ax1 = plt.subplot(1, 2, 1)\n",
    "for scenario in subset_2036_peak.columns:\n",
    "    ax1.plot(subset_2036_peak.index, subset_2036_peak[scenario], label=scenario, color=\"red\", alpha=0.5, zorder=10)\n",
    "for scenario in subset_remaining.columns:\n",
    "    ax1.plot(subset_remaining.index, subset_remaining[scenario], label=scenario, color=\"gray\", alpha=0.5, zorder=5)\n",
    "ax1.set_ylim(0, passenger_data.data.max().max())\n",
    "ax1.minorticks_on()\n",
    "ax1.grid(which=\"minor\", linestyle=\":\", linewidth=\"0.5\", color=\"gray\")\n",
    "ax1.set_xlim(passenger_data.data.index.min(), passenger_data.data.index.max())\n",
    "ax1.set_xlabel(\"Year\")\n",
    "ax1.set_ylabel(f\"{TRAFFIC_TYPE.capitalize()} vehicle kilometers (vkm)\")\n",
    "ax1.set_title(\n",
    "    f\"Scenario Ensemble for {TRAFFIC_TYPE} vehicle kilometers (vkm). Simulation: {SIM_NAME}\"\n",
    ")\n",
    "ax1.grid(True)\n",
    "ax1.axvline(\n",
    "    x=passenger_data.data.index[0], color=\"gray\", linestyle=\"--\", alpha=0.5\n",
    ")  # Add vertical gridline at the first value\n",
    "\n",
    "# Add a second subplot for KDE\n",
    "ax2 = plt.subplot(1, 2, 2)\n",
    "values_2030 = passenger_data.data.iloc[11]\n",
    "values_2050 = passenger_data.data.iloc[-1]\n",
    "sns.kdeplot(y=values_2030, fill=True)\n",
    "sns.kdeplot(y=values_2050, fill=True)\n",
    "ax2.legend([\"2030\", \"2050\"])\n",
    "ax2.set_xlabel(\"Frequency\")\n",
    "ax2.set_title(\"Kernel density estimation\")\n",
    "ax2.grid(True)\n",
    "\n",
    "if save_fig:\n",
    "    plt.savefig(PLOT_DIR / f\"{TRAFFIC_TYPE}_VKM.png\")\n",
    "plt.tight_layout()\n",
    "plt.subplots_adjust(wspace=0.1)  # Adjust the spacing between subplots\n",
    "plt.show()\n",
    "\n",
    "\n"
   ]
  }
 ],
 "metadata": {
  "kernelspec": {
   "display_name": "venv",
   "language": "python",
   "name": "python3"
  },
  "language_info": {
   "codemirror_mode": {
    "name": "ipython",
    "version": 3
   },
   "file_extension": ".py",
   "mimetype": "text/x-python",
   "name": "python",
   "nbconvert_exporter": "python",
   "pygments_lexer": "ipython3",
   "version": "3.10.12"
  }
 },
 "nbformat": 4,
 "nbformat_minor": 2
}
